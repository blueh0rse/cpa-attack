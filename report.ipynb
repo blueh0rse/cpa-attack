{
 "cells": [
  {
   "cell_type": "markdown",
   "metadata": {},
   "source": [
    "# Correlation Power Analysis Attack\n",
    "## Hardware Security Project\n",
    "### Master of Cybersecurity"
   ]
  },
  {
   "cell_type": "markdown",
   "metadata": {},
   "source": [
    "Context..."
   ]
  },
  {
   "cell_type": "markdown",
   "metadata": {
    "vscode": {
     "languageId": "plaintext"
    }
   },
   "source": [
    "## Dataset 1"
   ]
  },
  {
   "cell_type": "code",
   "execution_count": null,
   "metadata": {
    "vscode": {
     "languageId": "plaintext"
    }
   },
   "outputs": [],
   "source": [
    "..."
   ]
  },
  {
   "cell_type": "markdown",
   "metadata": {
    "vscode": {
     "languageId": "plaintext"
    }
   },
   "source": [
    "## Dataset 2"
   ]
  },
  {
   "cell_type": "markdown",
   "metadata": {},
   "source": [
    "This time we are provided with:\n",
    "- 16 trace files \n",
    "- 16 clock files\n",
    "- 1 cleartext file"
   ]
  },
  {
   "cell_type": "markdown",
   "metadata": {},
   "source": [
    "Steps:\n",
    "\n",
    "What we tried\n",
    "\n",
    "1.  We first tried to run the attack as we did in dataset1 to verify the real need of the clock files. As expected the key checksum wasn't matching with our results.\n",
    "\n",
    "2. We plotted the clock files to try to see something but we couldn't see much (join graph).\n",
    "\n",
    "3. We plotted the clock files along the trace files to try to see a correlation but we didn't identify any.\n",
    "\n",
    "4. We tried to plot only some part of the traces along the corresponding clocks but we couldn't exploit any information since the traces are unaligned\n",
    "\n",
    "5. We tried to align the traces by shifting each trace so that it's maximum aligns with the minimum index. After saving the aligned traces to files we ran the attack again as we did for dataset1 but the key checksum didn't match.\n",
    "\n",
    "6. Finally we decided to look for flanks in the clock signals and capture the associated trace data.\n",
    "\n",
    "How we achieved it\n",
    "\n",
    "1. Data reading\n",
    "\n",
    "- Initialize 2D numpy array for the cleartexts\n",
    "    - Type: int\n",
    "    - Dimmensions: 150 lines * 16 bytes\n",
    "- Initilize a 3D numpy array to hold all the traces\n",
    "    - Type: float\n",
    "    - Dimmensions: 16 files * 150 lines * 50000 values\n",
    "- Initilize a 3D numpy array to hold all the clocks\n",
    "    - Type: float\n",
    "    - Dimmensions: 16 files * 150 lines * 50000 values\n",
    "\n",
    "2. Hamming Weights\n",
    "\n",
    "...\n",
    "\n",
    "3. Rising edge detections\n",
    "\n",
    "The code is designed to detect rising edges (rising flanks) in a clock signal and extract a specific window of data from the trace signal associated with each detected edge\n",
    "\n",
    "The first loop is iterating over all the 150 traces of a file. The second loop iterates over the 50,000 values of each trace.\n",
    "\n",
    "After some test we defined a limit value after which the sample is considered as a flank.\n",
    "\n",
    "- a value too high is not detecting any flank\n",
    "- a value too low ...\n",
    "\n",
    "To detect a flank we set the following conditions:\n",
    "\n",
    "- The previous sample must be under the fixed limit\n",
    "- The current sample must be above the fixed limit\n",
    "\n",
    "If these condition are met we capture the trace samples arround the current clock peak (from j-5 to j+4) for further analysis"
   ]
  }
 ],
 "metadata": {
  "language_info": {
   "name": "python"
  }
 },
 "nbformat": 4,
 "nbformat_minor": 2
}
